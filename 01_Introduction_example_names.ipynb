{
 "cells": [
  {
   "cell_type": "markdown",
   "metadata": {},
   "source": [
    "## Example: Names in the Wild\n",
    "\n",
    "This example is drawn from Wes McKinney's excellent book on the *Pandas* library, O'Reilly's [Python for Data Analysis](http://shop.oreilly.com/product/0636920023784.do).\n",
    "\n",
    "We'll be taking a look at a freely available dataset: the database of names given to babies in the United States over the last century.\n",
    "\n",
    "First things first, we need to download the data, which can be found at http://www.ssa.gov/oact/babynames/limits.html.\n",
    "If you uncomment the following commands, it will do this automatically (note that these are linux shell commands; they will not work on Windows):"
   ]
  },
  {
   "cell_type": "code",
   "execution_count": null,
   "metadata": {
    "collapsed": true
   },
   "outputs": [],
   "source": [
    "import pandas as pd\n",
    "import seaborn; seaborn.set()\n",
    "%matplotlib inline"
   ]
  },
  {
   "cell_type": "code",
   "execution_count": null,
   "metadata": {
    "collapsed": false
   },
   "outputs": [],
   "source": [
    "#!curl -O https://www.ssa.gov/oact/babynames/names.zip"
   ]
  },
  {
   "cell_type": "code",
   "execution_count": null,
   "metadata": {
    "collapsed": false
   },
   "outputs": [],
   "source": [
    "#!mkdir -p data/names\n",
    "#!mv names.zip data/\n",
    "#!cd data/names/ && unzip names.zip"
   ]
  },
  {
   "cell_type": "markdown",
   "metadata": {},
   "source": [
    "Now we should have a ``data/names`` directory which contains a number of text files, one for each year of data:"
   ]
  },
  {
   "cell_type": "code",
   "execution_count": null,
   "metadata": {
    "collapsed": false
   },
   "outputs": [],
   "source": [
    "!ls data/names/"
   ]
  },
  {
   "cell_type": "markdown",
   "metadata": {},
   "source": [
    "Let's take a quick look at one of these files:"
   ]
  },
  {
   "cell_type": "code",
   "execution_count": null,
   "metadata": {
    "collapsed": false
   },
   "outputs": [],
   "source": [
    "!head data/names/yob1880.txt"
   ]
  },
  {
   "cell_type": "markdown",
   "metadata": {},
   "source": [
    "Each file is just a comma-separated list of names, genders, and counts of babies with that name in each year.\n",
    "\n",
    "We can load these files using ``pd.read_csv``, which is specifically designed for this:"
   ]
  },
  {
   "cell_type": "code",
   "execution_count": null,
   "metadata": {
    "collapsed": false
   },
   "outputs": [],
   "source": [
    "names1880 = pd.read_csv('data/names/yob1880.txt')\n",
    "names1880.head()"
   ]
  },
  {
   "cell_type": "markdown",
   "metadata": {},
   "source": [
    "Oops! Something went wrong. Our algorithm tried to be smart, and use the first line as index labels.\n",
    "Let's fix this by specifying the index names manually:"
   ]
  },
  {
   "cell_type": "code",
   "execution_count": null,
   "metadata": {
    "collapsed": false
   },
   "outputs": [],
   "source": [
    "names1880 = pd.read_csv('data/names/yob1880.txt',\n",
    "                        names=['name', 'gender', 'births'])\n",
    "names1880.head()"
   ]
  },
  {
   "cell_type": "markdown",
   "metadata": {},
   "source": [
    "That looks better. Now we can start playing with the data a bit."
   ]
  },
  {
   "cell_type": "markdown",
   "metadata": {},
   "source": [
    "### GroupBy: aggregates on values\n",
    "\n",
    "First let's think about how we might count the total number of females and males born in the US in 1880.\n",
    "\n",
    "If you're used to NumPy, you might be tempted to use masking like this:\n",
    "\n",
    "First, we can get a mask over all females & males, and then use it to select a subset of the data:"
   ]
  },
  {
   "cell_type": "code",
   "execution_count": null,
   "metadata": {
    "collapsed": false
   },
   "outputs": [],
   "source": [
    "males = names1880[names1880.gender == 'M']\n",
    "females = names1880[names1880.gender == 'F']"
   ]
  },
  {
   "cell_type": "markdown",
   "metadata": {},
   "source": [
    "Now we can take the sum of the births for each of these:"
   ]
  },
  {
   "cell_type": "code",
   "execution_count": null,
   "metadata": {
    "collapsed": false
   },
   "outputs": [],
   "source": [
    "males.births.sum(), females.births.sum()"
   ]
  },
  {
   "cell_type": "markdown",
   "metadata": {},
   "source": [
    "But there's an easier way to do this, using one of Pandas' very powerful features: ``groupby``:"
   ]
  },
  {
   "cell_type": "code",
   "execution_count": null,
   "metadata": {
    "collapsed": false
   },
   "outputs": [],
   "source": [
    "grouped = names1880.groupby('gender')\n",
    "grouped"
   ]
  },
  {
   "cell_type": "markdown",
   "metadata": {},
   "source": [
    "This grouped object is now an abstract representation of the data, where the data is split on the given column.\n",
    "In order to actually do something with this data, we need to specify an **aggregation** operation to do across the data.\n",
    "In this case, what we want is the sum:"
   ]
  },
  {
   "cell_type": "code",
   "execution_count": null,
   "metadata": {
    "collapsed": false
   },
   "outputs": [],
   "source": [
    "grouped.sum()"
   ]
  },
  {
   "cell_type": "markdown",
   "metadata": {},
   "source": [
    "We can do other aggregations as well:"
   ]
  },
  {
   "cell_type": "code",
   "execution_count": null,
   "metadata": {
    "collapsed": false
   },
   "outputs": [],
   "source": [
    "grouped.size()"
   ]
  },
  {
   "cell_type": "code",
   "execution_count": null,
   "metadata": {
    "collapsed": false
   },
   "outputs": [],
   "source": [
    "grouped.mean()"
   ]
  },
  {
   "cell_type": "markdown",
   "metadata": {},
   "source": [
    "Or, if we wish, we can get a description of the grouping:"
   ]
  },
  {
   "cell_type": "code",
   "execution_count": null,
   "metadata": {
    "collapsed": false
   },
   "outputs": [],
   "source": [
    "grouped.describe()"
   ]
  },
  {
   "cell_type": "markdown",
   "metadata": {},
   "source": [
    "### Concatenating multiple data sources\n",
    "\n",
    "But here we've just been looking at a single year. Let's try to put together all the data in all the years.\n",
    "To do this, we'll have to use pandas ``concat`` function to concatenate all the data together.\n",
    "First we'll create a function which loads the data as we did the above data:"
   ]
  },
  {
   "cell_type": "code",
   "execution_count": null,
   "metadata": {
    "collapsed": false
   },
   "outputs": [],
   "source": [
    "def load_year(year):\n",
    "    data = pd.read_csv('data/names/yob{0}.txt'.format(year),\n",
    "                       names=['name', 'gender', 'births'])\n",
    "    data['year'] = year\n",
    "    return data"
   ]
  },
  {
   "cell_type": "markdown",
   "metadata": {},
   "source": [
    "Now let's load all the data into a list, and call ``pd.concat`` on that list:"
   ]
  },
  {
   "cell_type": "code",
   "execution_count": null,
   "metadata": {
    "collapsed": false
   },
   "outputs": [],
   "source": [
    "names = pd.concat([load_year(year) for year in range(1880, 2014)])\n",
    "names.head()"
   ]
  },
  {
   "cell_type": "markdown",
   "metadata": {},
   "source": [
    "It looks like we've done it!\n",
    "\n",
    "Let's start with something easy: we'll use ``groupby`` again to see the total number of births per year:"
   ]
  },
  {
   "cell_type": "code",
   "execution_count": null,
   "metadata": {
    "collapsed": false
   },
   "outputs": [],
   "source": [
    "births = names.groupby('year').births.sum()\n",
    "births.head()"
   ]
  },
  {
   "cell_type": "markdown",
   "metadata": {},
   "source": [
    "We can use the ``plot()`` method to see a quick plot of these (note that because we used the ``%matplotlib inline`` magic at the start of the notebook, the resulting plot will be shown inline within the notebook)."
   ]
  },
  {
   "cell_type": "code",
   "execution_count": null,
   "metadata": {
    "collapsed": false
   },
   "outputs": [],
   "source": [
    "births.plot();"
   ]
  },
  {
   "cell_type": "markdown",
   "metadata": {},
   "source": [
    "The so-called \"baby boom\" generation after the second world war is abundantly clear!"
   ]
  },
  {
   "cell_type": "markdown",
   "metadata": {},
   "source": [
    "We can also use other aggregates: let's see *how many* names are used each year:"
   ]
  },
  {
   "cell_type": "code",
   "execution_count": null,
   "metadata": {
    "collapsed": false
   },
   "outputs": [],
   "source": [
    "names.groupby('year').births.count().plot();"
   ]
  },
  {
   "cell_type": "markdown",
   "metadata": {},
   "source": [
    "Apparently there's been a huge increase of the diversity of names with time!"
   ]
  },
  {
   "cell_type": "markdown",
   "metadata": {},
   "source": [
    "``groupby`` can also be used to add columns to the data: think of it as a *view* of the data that you're modifying. Let's add a column giving the frequency of each name within each year & gender:"
   ]
  },
  {
   "cell_type": "code",
   "execution_count": null,
   "metadata": {
    "collapsed": false
   },
   "outputs": [],
   "source": [
    "def add_frequency(group):\n",
    "    group['birth_freq'] = group.births / group.births.sum()\n",
    "    return group\n",
    "\n",
    "names = names.groupby(['year', 'gender']).apply(add_frequency)\n",
    "names.head()"
   ]
  },
  {
   "cell_type": "markdown",
   "metadata": {},
   "source": [
    "Notice that the ``apply()`` function iterates over each group, and calls a function which modifies the group.\n",
    "This result is then re-constructed into a container which looks ike the original dataframe."
   ]
  },
  {
   "cell_type": "markdown",
   "metadata": {},
   "source": [
    "### Pivot Tables\n",
    "\n",
    "Next we'll discuss Pivot Tables, which are an even more powerful way of (re)organizing your data.\n",
    "\n",
    "Let's say that we want to plot the men and women separately.\n",
    "We could do this by using masking, as follows:"
   ]
  },
  {
   "cell_type": "code",
   "execution_count": null,
   "metadata": {
    "collapsed": false
   },
   "outputs": [],
   "source": [
    "men = names[names.gender == 'M']\n",
    "women = names[names.gender == 'W']"
   ]
  },
  {
   "cell_type": "markdown",
   "metadata": {},
   "source": [
    "And then we could proceed as above, using ``groupby`` to group on the year.\n",
    "But we would end up with two different views of the data. A better way to do this is to use a ``pivot_table``, which is essentially a groupby in multiple dimensions at once:"
   ]
  },
  {
   "cell_type": "code",
   "execution_count": null,
   "metadata": {
    "collapsed": false
   },
   "outputs": [],
   "source": [
    "births = names.pivot_table('births',\n",
    "                           index='year', columns='gender',\n",
    "                           aggfunc=sum)\n",
    "births.head()"
   ]
  },
  {
   "cell_type": "markdown",
   "metadata": {},
   "source": [
    "Note that this has grouped the index by the value of ``year``, and grouped the columns by the value of ``gender``.\n",
    "Let's plot the results now:"
   ]
  },
  {
   "cell_type": "code",
   "execution_count": null,
   "metadata": {
    "collapsed": false
   },
   "outputs": [],
   "source": [
    "births.plot(title='Total Births');"
   ]
  },
  {
   "cell_type": "markdown",
   "metadata": {},
   "source": [
    "### Name Evolution Over Time\n",
    "\n",
    "Some names have shifted from being girls names to being boys names. Let's take a look at some of these:"
   ]
  },
  {
   "cell_type": "code",
   "execution_count": null,
   "metadata": {
    "collapsed": false
   },
   "outputs": [],
   "source": [
    "names_to_check = ['Allison', 'Alison']\n",
    "\n",
    "# filter on just the names we're interested in\n",
    "births = names[names.name.isin(names_to_check)]\n",
    "\n",
    "# pivot table to get year vs. gender\n",
    "births = births.pivot_table('births', index='year', columns='gender')\n",
    "\n",
    "# fill all NaNs with zeros\n",
    "births = births.fillna(0)\n",
    "\n",
    "# normalize along columns\n",
    "births = births.div(births.sum(1), axis=0)\n",
    "\n",
    "births.plot(title='Fraction of babies named Allison');"
   ]
  },
  {
   "cell_type": "markdown",
   "metadata": {},
   "source": [
    "We can see that prior to about 1905, all babies named Allison were male. Over the 20th century, this reversed, until the end of the century nearly all Allisons were female!\n",
    "\n",
    "There's some noise in this data: we can smooth it out a bit by using a 5-year rolling mean:"
   ]
  },
  {
   "cell_type": "code",
   "execution_count": null,
   "metadata": {
    "collapsed": false
   },
   "outputs": [],
   "source": [
    "births.rolling(window=5, center=False).mean().plot(title=\"Allisons: 5-year moving average\");"
   ]
  },
  {
   "cell_type": "markdown",
   "metadata": {},
   "source": [
    "This gives a smoother picture of the transition, and is an example of the bias/variance tradeoff that we'll often see in modeling: a smoother model has less variance (variation due to sampling or other noise) but at the expense of more bias (the model systematically mis-represents the data slightly).\n",
    "\n",
    "We'll discuss this type of tradeoff more in coming sessions."
   ]
  },
  {
   "cell_type": "code",
   "execution_count": null,
   "metadata": {
    "collapsed": true
   },
   "outputs": [],
   "source": []
  }
 ],
 "metadata": {
  "anaconda-cloud": {},
  "kernelspec": {
   "display_name": "Python [Root]",
   "language": "python",
   "name": "Python [Root]"
  },
  "language_info": {
   "codemirror_mode": {
    "name": "ipython",
    "version": 3
   },
   "file_extension": ".py",
   "mimetype": "text/x-python",
   "name": "python",
   "nbconvert_exporter": "python",
   "pygments_lexer": "ipython3",
   "version": "3.5.2"
  }
 },
 "nbformat": 4,
 "nbformat_minor": 0
}
